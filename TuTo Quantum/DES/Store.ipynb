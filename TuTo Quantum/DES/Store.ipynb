{
 "cells": [
  {
   "cell_type": "markdown",
   "metadata": {},
   "source": [
    "## Step1 : Create Store Class \n"
   ]
  },
  {
   "cell_type": "code",
   "execution_count": 3,
   "metadata": {},
   "outputs": [],
   "source": [
    "from sequence.kernel.timeline import Timeline\n",
    "\n",
    "class Store(object):\n",
    "    def __init__(self, tl: Timeline):\n",
    "        self.opening = False\n",
    "        self.timeline = tl\n",
    "\n",
    "    def open(self) -> None:\n",
    "        self.opening = True\n",
    "\n",
    "    def close(self) -> None:\n",
    "        self.opening = False"
   ]
  },
  {
   "cell_type": "markdown",
   "metadata": {},
   "source": [
    "## Step 2: Schedule Events on Store"
   ]
  },
  {
   "cell_type": "code",
   "execution_count": 4,
   "metadata": {},
   "outputs": [],
   "source": [
    "from sequence.kernel.event import Event\n",
    "from sequence.kernel.process import Process\n",
    "\n",
    "tl = Timeline() # create timeline\n",
    "tl.show_progress = False # turn of progress bar, we will address this in later tutorials.\n",
    "store = Store(tl) # create store\n",
    "\n",
    "# open store at 7:00\n",
    "open_proc = Process(store, 'open', []) # Process(object, function name: string, arguments of function: List[])\n",
    "open_event = Event(7, open_proc) # Event(occurring time: int, process: Process)\n",
    "tl.schedule(open_event) # Timeline.schedule(Event)"
   ]
  },
  {
   "cell_type": "markdown",
   "metadata": {},
   "source": [
    "## In the above code, we first create instances of Timeline and Store. Then, we create a process with the object being Store, the method of Store and a list of arguments for the method. The Event class uses open_proc process to create an event occurring at 7:00. The object Timeline then schedules the created event in its event list."
   ]
  },
  {
   "cell_type": "code",
   "execution_count": 5,
   "metadata": {},
   "outputs": [
    {
     "name": "stdout",
     "output_type": "stream",
     "text": [
      "False\n"
     ]
    }
   ],
   "source": [
    "print(store.opening) # False"
   ]
  },
  {
   "cell_type": "markdown",
   "metadata": {},
   "source": [
    "## The shop is always closed until the scheduled event is executed. For the event to run and the shop to open, the timeline simulator must advance to time 7."
   ]
  },
  {
   "cell_type": "markdown",
   "metadata": {},
   "source": [
    "## Step 3: Run Simulation"
   ]
  }
 ],
 "metadata": {
  "kernelspec": {
   "display_name": "Python 3",
   "language": "python",
   "name": "python3"
  },
  "language_info": {
   "codemirror_mode": {
    "name": "ipython",
    "version": 3
   },
   "file_extension": ".py",
   "mimetype": "text/x-python",
   "name": "python",
   "nbconvert_exporter": "python",
   "pygments_lexer": "ipython3",
   "version": "3.10.13"
  }
 },
 "nbformat": 4,
 "nbformat_minor": 2
}
