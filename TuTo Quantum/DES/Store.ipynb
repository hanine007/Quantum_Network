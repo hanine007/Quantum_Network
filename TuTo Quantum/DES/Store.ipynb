{
 "cells": [
  {
   "cell_type": "markdown",
   "metadata": {},
   "source": [
    "## Step1 : Create Store Class \n"
   ]
  },
  {
   "cell_type": "code",
   "execution_count": 45,
   "metadata": {},
   "outputs": [],
   "source": [
    "from sequence.kernel.timeline import Timeline\n",
    "\n",
    "class Store(object):\n",
    "    def __init__(self, tl: Timeline):\n",
    "        self.opening = False\n",
    "        self.timeline = tl\n",
    "\n",
    "    def open(self) -> None:\n",
    "        self.opening = True\n",
    "\n",
    "    def close(self) -> None:\n",
    "        self.opening = False"
   ]
  },
  {
   "cell_type": "markdown",
   "metadata": {},
   "source": [
    "## Step 2: Schedule Events on Store"
   ]
  },
  {
   "cell_type": "code",
   "execution_count": 46,
   "metadata": {},
   "outputs": [],
   "source": [
    "from sequence.kernel.event import Event\n",
    "from sequence.kernel.process import Process\n",
    "\n",
    "tl = Timeline() # create timeline\n",
    "tl.show_progress = False # turn of progress bar, we will address this in later tutorials.\n",
    "store = Store(tl) # create store\n",
    "\n",
    "# open store at 7:00\n",
    "open_proc = Process(store, 'open', []) # Process(object, function name: string, arguments of function: List[])\n",
    "open_event = Event(7, open_proc) # Event(occurring time: int, process: Process)\n",
    "tl.schedule(open_event) # Timeline.schedule(Event)"
   ]
  },
  {
   "cell_type": "markdown",
   "metadata": {},
   "source": [
    "## In the above code, we first create instances of Timeline and Store. Then, we create a process with the object being Store, the method of Store and a list of arguments for the method. The Event class uses open_proc process to create an event occurring at 7:00. The object Timeline then schedules the created event in its event list."
   ]
  },
  {
   "cell_type": "code",
   "execution_count": 47,
   "metadata": {},
   "outputs": [
    {
     "name": "stdout",
     "output_type": "stream",
     "text": [
      "False\n"
     ]
    }
   ],
   "source": [
    "print(store.opening) # False"
   ]
  },
  {
   "cell_type": "markdown",
   "metadata": {},
   "source": [
    "## The shop is always closed until the scheduled event is executed. For the event to run and the shop to open, the timeline simulator must advance to time 7."
   ]
  },
  {
   "cell_type": "markdown",
   "metadata": {},
   "source": [
    "## Step 3: Run Simulation"
   ]
  },
  {
   "cell_type": "code",
   "execution_count": 48,
   "metadata": {},
   "outputs": [
    {
     "name": "stdout",
     "output_type": "stream",
     "text": [
      "7 True\n"
     ]
    }
   ],
   "source": [
    "tl.run()\n",
    "print(tl.now(), store.opening) # 7 True"
   ]
  },
  {
   "cell_type": "markdown",
   "metadata": {},
   "source": [
    "## Now, the state of store is updated to the open state. Meanwhile, the function Timeline.now() presents the current simulation time (7). When the simulator executes an event, the simulator will update its time to the timestamp of the event."
   ]
  },
  {
   "cell_type": "markdown",
   "metadata": {},
   "source": [
    "**Quiz**: can you change the store to close at 19:00?"
   ]
  },
  {
   "cell_type": "code",
   "execution_count": 49,
   "metadata": {},
   "outputs": [
    {
     "name": "stdout",
     "output_type": "stream",
     "text": [
      "19 False\n"
     ]
    }
   ],
   "source": [
    "close_proc = Process(store, 'close', [])\n",
    "close_event = Event(19, close_proc)\n",
    "tl.schedule(close_event)\n",
    "tl.run()\n",
    "print(tl.time, store.opening) # 19 False"
   ]
  },
  {
   "cell_type": "markdown",
   "metadata": {},
   "source": [
    "**Question**: will the state of store change if we schedule close_event first, then open_event?"
   ]
  },
  {
   "cell_type": "code",
   "execution_count": 50,
   "metadata": {},
   "outputs": [
    {
     "name": "stdout",
     "output_type": "stream",
     "text": [
      "19 False\n"
     ]
    }
   ],
   "source": [
    "tl.time = 0\n",
    "tl.schedule(open_event)\n",
    "tl.schedule(close_event)\n",
    "tl.run()\n",
    "print(tl.time, store.opening)"
   ]
  },
  {
   "cell_type": "code",
   "execution_count": 51,
   "metadata": {},
   "outputs": [
    {
     "name": "stdout",
     "output_type": "stream",
     "text": [
      "19 False\n"
     ]
    }
   ],
   "source": [
    "tl.time = 0\n",
    "tl.schedule(close_event)\n",
    "tl.schedule(open_event)\n",
    "tl.run()\n",
    "print(tl.time, store.opening)"
   ]
  },
  {
   "cell_type": "markdown",
   "metadata": {},
   "source": [
    "You can compare the results of the above programs. Both generate the same result (19 False), as the order of executing events does not rely on the order of calling the scheduling method"
   ]
  },
  {
   "cell_type": "markdown",
   "metadata": {},
   "source": [
    "## Example: Automatically Open and Close Store\n",
    "### Step 1: Upgrade Store Class\n",
    "The previous example allows us to open and close the store manually. In this example, we upgrade Store to open and close automatically with 12 business hours. The code of the upgraded Store is shown below"
   ]
  },
  {
   "cell_type": "code",
   "execution_count": 52,
   "metadata": {},
   "outputs": [],
   "source": [
    "from sequence.kernel.timeline import Timeline\n",
    "from sequence.kernel.event import Event\n",
    "from sequence.kernel.process import Process\n",
    "\n",
    "class Store(object):\n",
    "    def __init__(self, tl: Timeline):\n",
    "        self.opening = False\n",
    "        self.timeline = tl\n",
    "\n",
    "    def open(self) -> None:\n",
    "        self.opening = True\n",
    "        process = Process(self, 'close', [])\n",
    "        event = Event(self.timeline.now() + 12, process)\n",
    "        self.timeline.schedule(event)\n",
    "\n",
    "    def close(self) -> None:\n",
    "        self.opening = False\n",
    "        process = Process(self, 'open', [])\n",
    "        event = Event(self.timeline.now() + 12, process)\n",
    "        self.timeline.schedule(event)"
   ]
  },
  {
   "cell_type": "markdown",
   "metadata": {},
   "source": [
    "The updated Store.open()(Store.close()) function schedules a Store.close() (Store.open()) after 12 hours. Now, the Store can repeatedly open and close every 12 hours."
   ]
  },
  {
   "cell_type": "markdown",
   "metadata": {},
   "source": [
    "### Step 2: Schedule Initial Event\n",
    "We can then define a store with an initial state - that the store opens at 7."
   ]
  },
  {
   "cell_type": "code",
   "execution_count": 53,
   "metadata": {},
   "outputs": [],
   "source": [
    "tl = Timeline()\n",
    "tl.show_progress = False\n",
    "store = Store(tl)\n",
    "process = Process(store, 'open', [])\n",
    "event = Event(7, process)\n",
    "tl.schedule(event)"
   ]
  },
  {
   "cell_type": "markdown",
   "metadata": {},
   "source": [
    "However, if you use tl.run() to run the simulation, the simulation will get stuck in an infinite loop."
   ]
  },
  {
   "cell_type": "markdown",
   "metadata": {},
   "source": [
    "### Step3 : Define the Condition of Stopping Simulation and Run Simulation\n",
    "There are two methods to terminate simulation:\n",
    "\n",
    "set the stop time of simulation when creating the Timeline\n",
    "\n",
    "stop the simulation in a function of Store\n",
    "\n",
    "For the first method, we can construct the object of Timeline with the code below:"
   ]
  },
  {
   "cell_type": "code",
   "execution_count": 54,
   "metadata": {},
   "outputs": [],
   "source": [
    "tl = Timeline(60) # simulate system for 60 hours\n"
   ]
  },
  {
   "cell_type": "markdown",
   "metadata": {},
   "source": [
    "For the second method, we can call Timeline.stop() in the Store.open() and Store.close() methods:\n",
    "\n"
   ]
  },
  {
   "cell_type": "code",
   "execution_count": 55,
   "metadata": {},
   "outputs": [],
   "source": [
    "from sequence.kernel.timeline import Timeline\n",
    "from sequence.kernel.event import Event\n",
    "from sequence.kernel.process import Process\n",
    "\n",
    "class Store(object):\n",
    "    def __init__(self, tl: Timeline):\n",
    "        self.opening = False\n",
    "        self.timeline = tl\n",
    "    def open(self) -> None:\n",
    "        if self.timeline.now() >= 60:\n",
    "            self.timeline.stop()\n",
    "        self.opening = True\n",
    "        process = Process(self, 'close', [])\n",
    "        event = Event(self.timeline.now() + 12, process)\n",
    "        self.timeline.schedule(event)\n",
    "    def close(self) -> None:\n",
    "        if self.timeline.now() >= 60:\n",
    "            self.timeline.stop()\n",
    "        self.opening = False\n",
    "        process = Process(self, 'open', [])\n",
    "        event = Event(self.timeline.now() + 12, process)\n",
    "        self.timeline.schedule(event)\n"
   ]
  },
  {
   "cell_type": "markdown",
   "metadata": {},
   "source": [
    "with the above methods, we can observe the state of store after a specfic time.\n",
    "\n"
   ]
  },
  {
   "cell_type": "code",
   "execution_count": 56,
   "metadata": {},
   "outputs": [
    {
     "name": "stdout",
     "output_type": "stream",
     "text": [
      "0\n",
      "True\n",
      "0\n",
      "True\n",
      "0\n",
      "False\n"
     ]
    }
   ],
   "source": [
    "for t in [15, 32, 52]:\n",
    "    tl = Timeline(t)\n",
    "    store = Store(tl)\n",
    "    print(tl.now())\n",
    "    \n",
    "    process = Process(store, 'open', [])\n",
    "    event = Event(7, process)\n",
    "    tl.schedule(event)\n",
    "    \n",
    "    tl.run()\n",
    "    print(store.opening)\n",
    "# True, True, Fals"
   ]
  }
 ],
 "metadata": {
  "kernelspec": {
   "display_name": "Python 3",
   "language": "python",
   "name": "python3"
  },
  "language_info": {
   "codemirror_mode": {
    "name": "ipython",
    "version": 3
   },
   "file_extension": ".py",
   "mimetype": "text/x-python",
   "name": "python",
   "nbconvert_exporter": "python",
   "pygments_lexer": "ipython3",
   "version": "3.10.13"
  }
 },
 "nbformat": 4,
 "nbformat_minor": 2
}
