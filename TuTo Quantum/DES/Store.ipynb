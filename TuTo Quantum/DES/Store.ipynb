{
 "cells": [
  {
   "cell_type": "markdown",
   "metadata": {},
   "source": [
    "## Step1 : Create Store Class \n"
   ]
  },
  {
   "cell_type": "code",
   "execution_count": null,
   "metadata": {},
   "outputs": [],
   "source": [
    "from sequence.kernel.timeline import Timeline\n",
    "\n",
    "class Store(object):\n",
    "    def __init__(self, tl: Timeline):\n",
    "        self.opening = False\n",
    "        self.timeline = tl\n",
    "\n",
    "    def open(self) -> None:\n",
    "        self.opening = True\n",
    "\n",
    "    def close(self) -> None:\n",
    "        self.opening = False"
   ]
  },
  {
   "cell_type": "markdown",
   "metadata": {},
   "source": [
    "## Step 2: Schedule Events on Store"
   ]
  },
  {
   "cell_type": "code",
   "execution_count": null,
   "metadata": {},
   "outputs": [],
   "source": []
  }
 ],
 "metadata": {
  "language_info": {
   "name": "python"
  }
 },
 "nbformat": 4,
 "nbformat_minor": 2
}
